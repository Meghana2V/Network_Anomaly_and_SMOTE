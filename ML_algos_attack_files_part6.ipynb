{
 "cells": [
  {
   "cell_type": "code",
   "execution_count": 24,
   "id": "a3765160-9be4-4ecc-a520-9e75021211b7",
   "metadata": {},
   "outputs": [],
   "source": [
    "import pandas as pd\n",
    "import numpy as np\n",
    "from sklearn.naive_bayes import GaussianNB\n",
    "from sklearn.ensemble import ExtraTreesClassifier, RandomForestClassifier, AdaBoostClassifier\n",
    "from sklearn.discriminant_analysis import QuadraticDiscriminantAnalysis as QDA\n",
    "from sklearn.neighbors import KNeighborsClassifier\n",
    "from sklearn.neural_network import MLPClassifier\n",
    "from sklearn.tree import DecisionTreeClassifier\n",
    "\n",
    "from sklearn import metrics \n",
    "from sklearn.metrics import accuracy_score, average_precision_score, confusion_matrix, precision_score, recall_score, f1_score\n",
    "from sklearn.model_selection import train_test_split\n",
    "\n",
    "import os\n",
    "import warnings\n",
    "import time\n",
    "import matplotlib.pyplot as plt\n",
    "warnings.filterwarnings(\"ignore\")"
   ]
  },
  {
   "cell_type": "code",
   "execution_count": null,
   "id": "47360864-f487-4edb-97b5-f0375ec33c62",
   "metadata": {},
   "outputs": [],
   "source": []
  },
  {
   "cell_type": "code",
   "execution_count": 6,
   "id": "c9b5e15a-2103-4408-839a-1c50337d2259",
   "metadata": {},
   "outputs": [],
   "source": [
    "#The machine learning algorithms to be used are defined in a dictionary (ml_list).\n",
    "ml_list={\n",
    "\"Naive Bayes\":GaussianNB(),\n",
    "\"QDA\":QDA(),\n",
    "\"Random Forest\":RandomForestClassifier(max_depth=5, n_estimators=10, max_features=1),\n",
    "\"ID3\" :DecisionTreeClassifier(max_depth=5,criterion=\"entropy\"),\n",
    "\"AdaBoost\":AdaBoostClassifier(),\n",
    "\"MLP\":MLPClassifier(hidden_layer_sizes=(13,13,13),max_iter=500),\n",
    "\"Nearest Neighbors\":KNeighborsClassifier(3)}"
   ]
  },
  {
   "cell_type": "code",
   "execution_count": null,
   "id": "ba863bd9-bf98-491c-8a72-48ce0bd4ef30",
   "metadata": {},
   "outputs": [],
   "source": []
  },
  {
   "cell_type": "code",
   "execution_count": 41,
   "id": "1b2a6c21-372a-4c5f-9a45-8e41836c5190",
   "metadata": {},
   "outputs": [],
   "source": [
    "features = {'FTP-Patator.csv': ['Source Port','Bwd Packet Length Mean','Destination_IP_Encoded','Packet Length Std','Timestamp','Packet Length Variance','Fwd Packet Length Max','Avg Fwd Segment Size','Max Packet Length','Packet Length Mean','Average Packet Size','Fwd Packet Length Std','Fwd Packet Length Mean','Source_IP_Encoded','Destination Port','Label'],\n",
    " 'PortScan.csv': ['Flow IAT Max','Bwd Packet Length Min','Total Fwd Packets','PSH Flag Count','Source_IP_Encoded','Flow Duration','Bwd Packets/s','Fwd Packet Length Max','Avg Fwd Segment Size','Average Packet Size','Packet Length Mean','Fwd Packet Length Mean','Timestamp','Total Length of Fwd Packets','Subflow Fwd Bytes','Label'],\n",
    " 'DoS Slowhttptest.csv': ['Flow Duration','Timestamp','Active Mean','min_seg_size_forward','Flow IAT Min','Idle Max','Fwd IAT Std','Fwd IAT Total','Fwd IAT Mean','Flow IAT Std','Fwd IAT Min','Flow IAT Mean','Fwd IAT Max','Flow IAT Max','Source_IP_Encoded','Label'],\n",
    " 'Web Attack.csv': ['Destination Port','Fwd IAT Max','Fwd IAT Std','Flow IAT Mean','Flow Duration','Fwd IAT Mean','Destination_IP_Encoded','Flow IAT Std','Fwd IAT Total','Init_Win_bytes_forward','Fwd IAT Min','Source Port','Source_IP_Encoded','Init_Win_bytes_backward','Timestamp','Label'],\n",
    " 'DoS Hulk.csv': ['Bwd Packet Length Mean','Bwd Packets/s','Flow IAT Std','Flow IAT Max','Destination Port','Idle Min','Min Packet Length','Fwd IAT Max','Idle Max','Idle Mean','Timestamp','Fwd IAT Std','Destination_IP_Encoded','Packet Length Variance','Source_IP_Encoded','Label'],\n",
    " 'Heartbleed.csv': ['Subflow Fwd Bytes','Flow IAT Min','Flow Duration','Subflow Bwd Bytes','Bwd Packet Length Std','Packet Length Variance','Bwd Packet Length Mean','Average Packet Size','Total Fwd Packets','Total Length of Bwd Packets','Total Backward Packets','Packet Length Mean','Subflow Bwd Packets','Max Packet Length','Bwd Header Length','Label'],\n",
    " 'DoS slowloris.csv': ['Min Packet Length','Fwd IAT Total','Timestamp','Subflow Bwd Bytes','Fwd IAT Min','Destination Port','Fwd IAT Max','Flow IAT Mean','Fwd IAT Mean','min_seg_size_forward','Total Length of Bwd Packets','Avg Bwd Segment Size','Bwd Packet Length Mean','Destination_IP_Encoded','Source_IP_Encoded','Label'],\n",
    " 'Bot.csv': ['Flow IAT Min','Bwd IAT Min','Total Length of Bwd Packets','Bwd Packets/s','Bwd Packet Length Max','Source Port','Packet Length Mean','Subflow Bwd Bytes','Average Packet Size','Init_Win_bytes_forward','Init_Win_bytes_backward','Avg Bwd Segment Size','Bwd Packet Length Mean','Destination Port','Timestamp','Label'],\n",
    " 'Infiltration.csv': ['Bwd IAT Total','Fwd IAT Max','Fwd Packet Length Max','Fwd IAT Total','Fwd IAT Min','Flow Duration','Bwd IAT Std','Fwd Packet Length Std','Avg Fwd Segment Size','Subflow Fwd Bytes','Total Length of Fwd Packets','Fwd Packet Length Mean','Destination_IP_Encoded','Destination Port','Source_IP_Encoded','Label'],\n",
    " 'DoS GoldenEye.csv': ['Idle Min','Destination Port','Timestamp','Fwd Packets/s','Fwd IAT Total','Destination_IP_Encoded','Fwd IAT Mean','min_seg_size_forward','Idle Mean','Fwd IAT Max','Flow IAT Mean','Flow Duration','Flow Packets/s','Flow IAT Max','Source_IP_Encoded','Label'],\n",
    " 'SSH-Patator.csv': ['Average Packet Size','Avg Bwd Segment Size','Bwd Packets/s','Bwd Packet Length Min','min_seg_size_forward','Init_Win_bytes_forward','Source Port','Min Packet Length','Fwd Packet Length Min','Flow Bytes/s','Destination_IP_Encoded','Init_Win_bytes_backward','Timestamp','Source_IP_Encoded','Destination Port','Label'],\n",
    " 'DDoS.csv': ['Packet Length Variance','Fwd IAT Total','Total Fwd Packets','Fwd IAT Std','Subflow Fwd Packets','Total Length of Fwd Packets','Source Port','Fwd Header Length','act_data_pkt_fwd','Destination_IP_Encoded','Avg Fwd Segment Size','Fwd Packet Length Max','Fwd Packet Length Mean','Source_IP_Encoded','Timestamp','Label']}\n",
    "\n"
   ]
  },
  {
   "cell_type": "code",
   "execution_count": 46,
   "id": "256735a7-5a38-472c-858c-3eb1b38f39ab",
   "metadata": {},
   "outputs": [
    {
     "data": {
      "text/plain": [
       "['smote_SSH-Patator.csv',\n",
       " 'smote_DoS Slowhttptest.csv',\n",
       " 'smote_DoS Hulk.csv',\n",
       " 'smote_DDoS.csv',\n",
       " 'smote_Heartbleed.csv',\n",
       " 'smote_Bot.csv',\n",
       " 'smote_Web Attack.csv',\n",
       " 'smote_DoS GoldenEye.csv',\n",
       " 'smote_DoS slowloris.csv',\n",
       " 'smote_FTP-Patator.csv',\n",
       " 'smote_Infiltration.csv',\n",
       " 'smote_PortScan.csv']"
      ]
     },
     "execution_count": 46,
     "metadata": {},
     "output_type": "execute_result"
    }
   ],
   "source": [
    "csv_files=os.listdir(\"smote_processed_files\")\n",
    "folder_path = 'smote_processed_files/'\n",
    "path=\"smote_processed_files/\"\n",
    "repetition=10\n",
    "\n",
    "csv_files"
   ]
  },
  {
   "cell_type": "code",
   "execution_count": null,
   "id": "4892ba48-7f6b-4dca-b822-558526adad07",
   "metadata": {},
   "outputs": [
    {
     "name": "stdout",
     "output_type": "stream",
     "text": [
      "File              ML algorithm       accuracy        Precision       Recall          F1-score        Time           \n",
      "Processing file: smote_SSH-Patator.csv\n",
      "smote_SSH-Patator Naive Bayes        0.98            0.98            0.98            0.98            0.0112         \n",
      "smote_SSH-Patator QDA                0.5             0.25            0.5             0.33            0.0427         \n",
      "smote_SSH-Patator Random Forest      1.0             1.0             1.0             1.0             0.0525         \n",
      "smote_SSH-Patator ID3                1.0             1.0             1.0             1.0             0.0238         \n",
      "smote_SSH-Patator AdaBoost           1.0             1.0             1.0             1.0             0.6564         \n",
      "smote_SSH-Patator MLP                0.96            0.96            0.96            0.96            0.918          \n",
      "smote_SSH-Patator Nearest Neighbors  1.0             1.0             1.0             1.0             0.4791         \n",
      "Processing file: smote_DoS Slowhttptest.csv\n",
      "smote_DoS Slowhttptest Naive Bayes        0.98            0.98            0.98            0.98            0.0103         \n",
      "smote_DoS Slowhttptest QDA                1.0             1.0             1.0             1.0             0.0387         \n",
      "smote_DoS Slowhttptest Random Forest      0.97            0.97            0.97            0.97            0.0582         \n",
      "smote_DoS Slowhttptest ID3                1.0             1.0             1.0             1.0             0.0516         \n",
      "smote_DoS Slowhttptest AdaBoost           1.0             1.0             1.0             1.0             0.7776         \n",
      "smote_DoS Slowhttptest MLP                0.5             0.25            0.5             0.33            0.5855         \n",
      "smote_DoS Slowhttptest Nearest Neighbors  1.0             1.0             1.0             1.0             0.3101         \n",
      "Processing file: smote_DoS Hulk.csv\n",
      "smote_DoS Hulk    Naive Bayes        0.98            0.98            0.98            0.98            0.3521         \n",
      "smote_DoS Hulk    QDA                0.99            0.99            0.99            0.99            1.6041         \n",
      "smote_DoS Hulk    Random Forest      0.99            0.99            0.99            0.99            2.2771         \n",
      "smote_DoS Hulk    ID3                1.0             1.0             1.0             1.0             2.023          \n",
      "smote_DoS Hulk    AdaBoost           1.0             1.0             1.0             1.0             38.8655        \n",
      "smote_DoS Hulk    MLP                0.95            0.96            0.95            0.95            32.3484        \n"
     ]
    }
   ],
   "source": [
    "csv_files = os.listdir(\"smote_processed_files\")\n",
    "folder_path = 'smote_processed_files/'\n",
    "\n",
    "# Print the output header\n",
    "print('%-17s %-17s  %-15s %-15s %-15s %-15s %-15s' % (\"File\", \"ML algorithm\", \"accuracy\", \"Precision\", \"Recall\", \"F1-score\", \"Time\"))\n",
    "\n",
    "for filename in os.listdir(folder_path):\n",
    "    if filename.endswith('.csv'):\n",
    "        file_path = os.path.join(folder_path, filename)\n",
    "        print(f\"Processing file: {filename}\")\n",
    "\n",
    "        key = filename[6:]\n",
    "        if key in features:\n",
    "            feature_list = list(features[key])\n",
    "        df = pd.read_csv(folder_path + filename, usecols=feature_list).fillna(0)\n",
    "\n",
    "\n",
    "        # Process the 'Label' column: change 'BENIGN' to 1 and all other labels to 0\n",
    "        df[\"Label\"] = df[\"Label\"].apply(lambda x: 1 if x == \"BENIGN\" else 0)\n",
    "\n",
    "        # Split the data into features (X) and target (y)\n",
    "        y = df[\"Label\"]\n",
    "        del df[\"Label\"]  # Remove the label column from the dataframe\n",
    "        feature_list.remove('Label')  # Remove 'Label' from the feature list\n",
    "        X = df[feature_list]\n",
    "    \n",
    "    for ii in ml_list: #this loop runs on the list containing the machine learning algorithm names. Operations are repeated for all the 7 algorithm\n",
    "        precision=[]\n",
    "        recall=[]\n",
    "        f1=[]\n",
    "        accuracy=[]\n",
    "        t_time=[]\n",
    "        for i in range(repetition): # This loop allows cross-validation and machine learning algorithm to be repeated 10 times\n",
    "            second=time.time()#time stamp for processing time\n",
    "\n",
    "            # cross-validation\n",
    "            X_train, X_test, y_train, y_test = train_test_split(X, y,#  data (X) and labels (y) are divided into 2 parts to be sent to the machine learning algorithm (80% train,%20 test). \n",
    "                test_size = 0.20, random_state = repetition)#  So, in total there are 4 tracks: training data(X_train), training tag (y_train), test data(X_test) and test tag(y_test).\n",
    "\n",
    "\n",
    "            #machine learning algorithm is applied in this section\n",
    "            clf = ml_list[ii]#choose algorithm from ml_list dictionary                                                                          \n",
    "            clf.fit(X_train, y_train)\n",
    "            predict =clf.predict(X_test)\n",
    "        \n",
    "            #makes \"classification report\" and assigns the precision, f-measure, and recall values.s.    \n",
    "                  \n",
    "            f_1=f1_score(y_test, predict, average='macro')\n",
    "            pr=precision_score(y_test, predict, average='macro')\n",
    "            rc=recall_score(y_test, predict, average='macro')\n",
    "          \n",
    "            precision.append(float(pr))\n",
    "            recall.append(float(rc))\n",
    "            f1.append(float(f_1))\n",
    "            accuracy.append(clf.score(X_test, y_test))\n",
    "            t_time.append(float((time.time()-second)) )\n",
    "\n",
    "            \n",
    "        print ('%-17s %-17s  %-15s %-15s %-15s %-15s %-15s' % (filename[0:-4],ii,str(round(np.mean(accuracy),2)),str(round(np.mean(precision),2)), \n",
    "            str(round(np.mean(recall),2)),str(round(np.mean(f1),2)),str(round(np.mean(t_time),4))))#the result of the ten repetitions is printed on the screen.\n",
    "\n",
    "        "
   ]
  },
  {
   "cell_type": "code",
   "execution_count": null,
   "id": "96016fbb-30d7-42da-9c52-5c2b276776b5",
   "metadata": {},
   "outputs": [],
   "source": []
  },
  {
   "cell_type": "code",
   "execution_count": null,
   "id": "836a0cd5-d541-4f59-a97b-6ba4a4d912ca",
   "metadata": {},
   "outputs": [],
   "source": []
  },
  {
   "cell_type": "code",
   "execution_count": null,
   "id": "738f1019-f8e7-40b2-86ce-4793dd7eb9fe",
   "metadata": {},
   "outputs": [],
   "source": []
  },
  {
   "cell_type": "code",
   "execution_count": null,
   "id": "bc5016ad-ff82-45ef-b40d-32d53aa281e2",
   "metadata": {},
   "outputs": [],
   "source": []
  },
  {
   "cell_type": "code",
   "execution_count": null,
   "id": "e46c1b3d-c97e-4b4a-9110-4dad0c7939b5",
   "metadata": {},
   "outputs": [],
   "source": []
  },
  {
   "cell_type": "code",
   "execution_count": null,
   "id": "009699f5-4801-417d-b156-6e60ec44f84c",
   "metadata": {},
   "outputs": [],
   "source": []
  },
  {
   "cell_type": "code",
   "execution_count": null,
   "id": "9d0df77c-487c-40b0-a998-8867d33b8c6c",
   "metadata": {},
   "outputs": [],
   "source": []
  },
  {
   "cell_type": "code",
   "execution_count": null,
   "id": "f3a96834-fab2-42e1-adc3-1fcaebf78abf",
   "metadata": {},
   "outputs": [],
   "source": []
  },
  {
   "cell_type": "code",
   "execution_count": null,
   "id": "c93d2381-832d-4cd4-9618-e35d6ed45f36",
   "metadata": {},
   "outputs": [],
   "source": []
  }
 ],
 "metadata": {
  "kernelspec": {
   "display_name": "Python 3 (ipykernel)",
   "language": "python",
   "name": "python3"
  },
  "language_info": {
   "codemirror_mode": {
    "name": "ipython",
    "version": 3
   },
   "file_extension": ".py",
   "mimetype": "text/x-python",
   "name": "python",
   "nbconvert_exporter": "python",
   "pygments_lexer": "ipython3",
   "version": "3.8.19"
  }
 },
 "nbformat": 4,
 "nbformat_minor": 5
}
