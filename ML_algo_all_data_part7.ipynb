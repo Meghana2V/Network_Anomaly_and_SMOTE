{
 "cells": [
  {
   "cell_type": "code",
   "execution_count": 1,
   "id": "2d275f82-8825-4deb-b960-d60592c4a72a",
   "metadata": {},
   "outputs": [],
   "source": [
    "import pandas as pd\n",
    "import numpy as np\n",
    "from sklearn.naive_bayes import GaussianNB\n",
    "from sklearn.ensemble import ExtraTreesClassifier, RandomForestClassifier, AdaBoostClassifier\n",
    "from sklearn.discriminant_analysis import QuadraticDiscriminantAnalysis as QDA\n",
    "from sklearn.neighbors import KNeighborsClassifier\n",
    "from sklearn.neural_network import MLPClassifier\n",
    "from sklearn.tree import DecisionTreeClassifier\n",
    "\n",
    "from sklearn import metrics \n",
    "from sklearn.metrics import accuracy_score, average_precision_score, confusion_matrix, precision_score, recall_score, f1_score\n",
    "from sklearn.model_selection import train_test_split\n",
    "\n",
    "import os\n",
    "import warnings\n",
    "import time\n",
    "import matplotlib.pyplot as plt\n",
    "warnings.filterwarnings(\"ignore\")"
   ]
  },
  {
   "cell_type": "code",
   "execution_count": null,
   "id": "29d5afc3-ae85-4779-b4af-45815d9ff771",
   "metadata": {},
   "outputs": [],
   "source": []
  },
  {
   "cell_type": "code",
   "execution_count": 2,
   "id": "6849bd0b-becc-46c6-ab13-8d2a87703bbd",
   "metadata": {},
   "outputs": [],
   "source": [
    "#The machine learning algorithms to be used are defined in a dictionary (ml_list).\n",
    "ml_list={\n",
    "\"Naive Bayes\":GaussianNB(),\n",
    "\"QDA\":QDA(),\n",
    "\"Random Forest\": RandomForestClassifier(max_depth=5, n_estimators=50, max_features=1),\n",
    "\"ID3\": DecisionTreeClassifier(max_depth=5, min_samples_split=10, min_samples_leaf=5, criterion=\"entropy\"),\n",
    "\"AdaBoost\":AdaBoostClassifier(),\n",
    "\"MLP\":MLPClassifier(hidden_layer_sizes=(13,13,13),max_iter=500),\n",
    "\"Nearest Neighbors\":KNeighborsClassifier(3)}"
   ]
  },
  {
   "cell_type": "code",
   "execution_count": null,
   "id": "2c28a074-b5f7-4e50-9256-bd6a34ae13a0",
   "metadata": {},
   "outputs": [],
   "source": []
  },
  {
   "cell_type": "code",
   "execution_count": 3,
   "id": "bb18d841-9122-46d7-8329-2b7e931110e1",
   "metadata": {},
   "outputs": [],
   "source": [
    "features = ['Source_IP_Encoded', 'Timestamp', 'Packet Length Std', 'Idle Max', 'Source Port', 'Total Length of Fwd Packets', 'Fwd IAT Max',\n",
    "                     'Flow IAT Max', 'Fwd IAT Std', 'Packet Length Variance', 'Destination_IP_Encoded', 'Destination Port', 'Packet Length Mean', \n",
    "                     'Subflow Fwd Bytes', 'Avg Bwd Segment Size', 'Subflow Bwd Bytes', 'Bwd Packet Length Mean', 'Total Length of Bwd Packets', \n",
    "                     'Idle Mean', 'Bwd Packet Length Max','Label']\n",
    "\n",
    "\n"
   ]
  },
  {
   "cell_type": "code",
   "execution_count": 4,
   "id": "cc819852-cca2-409f-9fa6-304af572014c",
   "metadata": {},
   "outputs": [
    {
     "data": {
      "text/plain": [
       "['Source_IP_Encoded',\n",
       " 'Timestamp',\n",
       " 'Packet Length Std',\n",
       " 'Idle Max',\n",
       " 'Source Port',\n",
       " 'Total Length of Fwd Packets',\n",
       " 'Fwd IAT Max',\n",
       " 'Flow IAT Max',\n",
       " 'Fwd IAT Std',\n",
       " 'Packet Length Variance',\n",
       " 'Destination_IP_Encoded',\n",
       " 'Destination Port',\n",
       " 'Packet Length Mean',\n",
       " 'Subflow Fwd Bytes',\n",
       " 'Avg Bwd Segment Size',\n",
       " 'Subflow Bwd Bytes',\n",
       " 'Bwd Packet Length Mean',\n",
       " 'Total Length of Bwd Packets',\n",
       " 'Idle Mean',\n",
       " 'Bwd Packet Length Max',\n",
       " 'Label']"
      ]
     },
     "execution_count": 4,
     "metadata": {},
     "output_type": "execute_result"
    }
   ],
   "source": [
    "features"
   ]
  },
  {
   "cell_type": "code",
   "execution_count": 5,
   "id": "57535f87-d295-4d2e-bf58-410599f624e7",
   "metadata": {},
   "outputs": [],
   "source": [
    "csv_files=[\"smote_smote_processed_files_all_data.csv\"]\n",
    "filename = \"smote_smote_processed_files_all_data.csv\"\n",
    "repetition=10"
   ]
  },
  {
   "cell_type": "code",
   "execution_count": 6,
   "id": "7d5509fb-2ac8-47bf-a711-7c8ee1da0fc6",
   "metadata": {},
   "outputs": [
    {
     "name": "stdout",
     "output_type": "stream",
     "text": [
      "<class 'pandas.core.frame.DataFrame'>\n",
      "RangeIndex: 1824600 entries, 0 to 1824599\n",
      "Data columns (total 84 columns):\n",
      " #   Column                       Dtype  \n",
      "---  ------                       -----  \n",
      " 0   Flow_ID_Encoded              uint64 \n",
      " 1   Source_IP_Encoded            float64\n",
      " 2   Source Port                  int64  \n",
      " 3   Destination_IP_Encoded       float64\n",
      " 4   Destination Port             int64  \n",
      " 5   Protocol                     int64  \n",
      " 6   Timestamp                    int64  \n",
      " 7   Flow Duration                int64  \n",
      " 8   Total Fwd Packets            int64  \n",
      " 9   Total Backward Packets       int64  \n",
      " 10  Total Length of Fwd Packets  float64\n",
      " 11  Total Length of Bwd Packets  float64\n",
      " 12  Fwd Packet Length Max        float64\n",
      " 13  Fwd Packet Length Min        float64\n",
      " 14  Fwd Packet Length Mean       float64\n",
      " 15  Fwd Packet Length Std        float64\n",
      " 16  Bwd Packet Length Max        float64\n",
      " 17  Bwd Packet Length Min        float64\n",
      " 18  Bwd Packet Length Mean       float64\n",
      " 19  Bwd Packet Length Std        float64\n",
      " 20  Flow Bytes/s                 float64\n",
      " 21  Flow Packets/s               float64\n",
      " 22  Flow IAT Mean                float64\n",
      " 23  Flow IAT Std                 float64\n",
      " 24  Flow IAT Max                 float64\n",
      " 25  Flow IAT Min                 float64\n",
      " 26  Fwd IAT Total                float64\n",
      " 27  Fwd IAT Mean                 float64\n",
      " 28  Fwd IAT Std                  float64\n",
      " 29  Fwd IAT Max                  float64\n",
      " 30  Fwd IAT Min                  float64\n",
      " 31  Bwd IAT Total                float64\n",
      " 32  Bwd IAT Mean                 float64\n",
      " 33  Bwd IAT Std                  float64\n",
      " 34  Bwd IAT Max                  float64\n",
      " 35  Bwd IAT Min                  float64\n",
      " 36  Fwd PSH Flags                int64  \n",
      " 37  Bwd PSH Flags                int64  \n",
      " 38  Fwd URG Flags                int64  \n",
      " 39  Bwd URG Flags                int64  \n",
      " 40  Fwd Header Length            int64  \n",
      " 41  Bwd Header Length            int64  \n",
      " 42  Fwd Packets/s                float64\n",
      " 43  Bwd Packets/s                float64\n",
      " 44  Min Packet Length            float64\n",
      " 45  Max Packet Length            float64\n",
      " 46  Packet Length Mean           float64\n",
      " 47  Packet Length Std            float64\n",
      " 48  Packet Length Variance       float64\n",
      " 49  FIN Flag Count               int64  \n",
      " 50  SYN Flag Count               int64  \n",
      " 51  RST Flag Count               int64  \n",
      " 52  PSH Flag Count               int64  \n",
      " 53  ACK Flag Count               int64  \n",
      " 54  URG Flag Count               int64  \n",
      " 55  CWE Flag Count               int64  \n",
      " 56  ECE Flag Count               int64  \n",
      " 57  Down/Up Ratio                float64\n",
      " 58  Average Packet Size          float64\n",
      " 59  Avg Fwd Segment Size         float64\n",
      " 60  Avg Bwd Segment Size         float64\n",
      " 61  Fwd Avg Bytes/Bulk           int64  \n",
      " 62  Fwd Avg Packets/Bulk         int64  \n",
      " 63  Fwd Avg Bulk Rate            int64  \n",
      " 64  Bwd Avg Bytes/Bulk           int64  \n",
      " 65  Bwd Avg Packets/Bulk         int64  \n",
      " 66  Bwd Avg Bulk Rate            int64  \n",
      " 67  Subflow Fwd Packets          int64  \n",
      " 68  Subflow Fwd Bytes            int64  \n",
      " 69  Subflow Bwd Packets          int64  \n",
      " 70  Subflow Bwd Bytes            int64  \n",
      " 71  Init_Win_bytes_forward       int64  \n",
      " 72  Init_Win_bytes_backward      int64  \n",
      " 73  act_data_pkt_fwd             int64  \n",
      " 74  min_seg_size_forward         int64  \n",
      " 75  Active Mean                  float64\n",
      " 76  Active Std                   float64\n",
      " 77  Active Max                   float64\n",
      " 78  Active Min                   float64\n",
      " 79  Idle Mean                    float64\n",
      " 80  Idle Std                     float64\n",
      " 81  Idle Max                     float64\n",
      " 82  Idle Min                     float64\n",
      " 83  Label                        object \n",
      "dtypes: float64(47), int64(35), object(1), uint64(1)\n",
      "memory usage: 1.1+ GB\n"
     ]
    }
   ],
   "source": [
    "df_1 = pd.read_csv(\"smote_smote_processed_files_all_data.csv\")\n",
    "df_1.info()"
   ]
  },
  {
   "cell_type": "code",
   "execution_count": null,
   "id": "ef45956a-dec0-467e-b015-ee37cea362d4",
   "metadata": {},
   "outputs": [
    {
     "name": "stdout",
     "output_type": "stream",
     "text": [
      "Processing file: smote_smote_processed_files_all_data.csv\n",
      "File              ML algorithm       accuracy        Precision       Recall          F1-score        Time           \n",
      "processed_files_all_data.csv Naive Bayes        0.91            0.82            0.94            0.86            26.6729        \n",
      "processed_files_all_data.csv QDA                0.82            0.73            0.79            0.73            358.5927       \n"
     ]
    }
   ],
   "source": [
    "from sklearn.model_selection import StratifiedKFold, cross_val_score\n",
    "\n",
    "for filename in csv_files:\n",
    "    if filename.endswith('.csv'):\n",
    "        print(f\"Processing file: {filename}\")\n",
    "\n",
    "        df = pd.read_csv(filename, usecols=features).fillna(0)\n",
    "        \n",
    "        # Process the 'Label' column: change 'BENIGN' to 1 and all other labels to 0\n",
    "        df[\"Label\"] = df[\"Label\"].apply(lambda x: 1 if x == \"BENIGN\" else 0)\n",
    "\n",
    "        # Split the data into features (X) and target (y)\n",
    "        y = df[\"Label\"]\n",
    "        del df[\"Label\"]  # Remove the label column from the dataframe\n",
    "        features.remove('Label')  # Remove 'Label' from the feature list\n",
    "        X = df[features]\n",
    "    \n",
    "        cv = StratifiedKFold(n_splits=10)  # 10-fold CV\n",
    "\n",
    "        # Print the output header\n",
    "        print('%-17s %-17s  %-15s %-15s %-15s %-15s %-15s' % (\"File\", \"ML algorithm\", \"accuracy\", \"Precision\", \"Recall\", \"F1-score\", \"Time\"))\n",
    "        \n",
    "        for ii in ml_list:\n",
    "            precision = []\n",
    "            recall = []\n",
    "            f1 = []\n",
    "            accuracy = []\n",
    "            t_time = []\n",
    "        \n",
    "            for i in range(repetition):  # Repeated cross-validation\n",
    "                second = time.time()  # time stamp for processing time\n",
    "        \n",
    "                # Use cross-validation for more robust performance metrics\n",
    "                clf = ml_list[ii]\n",
    "                \n",
    "                # Stratified cross-validation\n",
    "                accuracy_scores = cross_val_score(clf, X, y, cv=cv, scoring='accuracy')\n",
    "                precision_scores = cross_val_score(clf, X, y, cv=cv, scoring='precision_macro')\n",
    "                recall_scores = cross_val_score(clf, X, y, cv=cv, scoring='recall_macro')\n",
    "                f1_scores = cross_val_score(clf, X, y, cv=cv, scoring='f1_macro')\n",
    "                \n",
    "                accuracy.append(np.mean(accuracy_scores))\n",
    "                precision.append(np.mean(precision_scores))\n",
    "                recall.append(np.mean(recall_scores))\n",
    "                f1.append(np.mean(f1_scores))\n",
    "                t_time.append(float((time.time()-second)) )\n",
    "        \n",
    "            print('%-17s %-17s  %-15s %-15s %-15s %-15s %-15s' % (filename[12:], ii, \n",
    "                  str(round(np.mean(accuracy), 2)), str(round(np.mean(precision), 2)), \n",
    "                  str(round(np.mean(recall), 2)), str(round(np.mean(f1), 2)), \n",
    "                  str(round(np.mean(t_time), 4))))"
   ]
  },
  {
   "cell_type": "code",
   "execution_count": null,
   "id": "6ad0fcae-3574-401a-9646-9f584ae09ef9",
   "metadata": {},
   "outputs": [],
   "source": []
  },
  {
   "cell_type": "code",
   "execution_count": null,
   "id": "3a64dd55-f6d2-40f1-b53a-ef00b696ecfa",
   "metadata": {},
   "outputs": [],
   "source": []
  },
  {
   "cell_type": "code",
   "execution_count": null,
   "id": "416e9783-8368-48e4-b186-5d9110a63e61",
   "metadata": {},
   "outputs": [],
   "source": []
  },
  {
   "cell_type": "code",
   "execution_count": null,
   "id": "de5ba24b-ca94-4b04-878e-e19b397e53ea",
   "metadata": {},
   "outputs": [],
   "source": []
  },
  {
   "cell_type": "code",
   "execution_count": null,
   "id": "9ea3868f-4a4a-4ccc-8339-8768a4690776",
   "metadata": {},
   "outputs": [],
   "source": []
  },
  {
   "cell_type": "code",
   "execution_count": null,
   "id": "cb4849b7-55f0-45e1-a09b-fc273e4fb2bb",
   "metadata": {},
   "outputs": [],
   "source": []
  },
  {
   "cell_type": "code",
   "execution_count": null,
   "id": "7f759c83-4894-4e21-a52b-887e62458655",
   "metadata": {},
   "outputs": [],
   "source": []
  },
  {
   "cell_type": "code",
   "execution_count": null,
   "id": "67c87462-149f-415b-8ba3-93a7edf2f2d7",
   "metadata": {},
   "outputs": [],
   "source": []
  },
  {
   "cell_type": "code",
   "execution_count": null,
   "id": "8eab3386-166f-4759-a047-a07e3fae48cc",
   "metadata": {},
   "outputs": [],
   "source": []
  }
 ],
 "metadata": {
  "kernelspec": {
   "display_name": "Python 3 (ipykernel)",
   "language": "python",
   "name": "python3"
  },
  "language_info": {
   "codemirror_mode": {
    "name": "ipython",
    "version": 3
   },
   "file_extension": ".py",
   "mimetype": "text/x-python",
   "name": "python",
   "nbconvert_exporter": "python",
   "pygments_lexer": "ipython3",
   "version": "3.8.19"
  }
 },
 "nbformat": 4,
 "nbformat_minor": 5
}
